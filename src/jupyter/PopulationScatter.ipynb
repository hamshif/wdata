{
 "cells": [
  {
   "cell_type": "code",
   "execution_count": null,
   "id": "3cfbccbd",
   "metadata": {
    "pycharm": {
     "name": "#%%\n"
    }
   },
   "outputs": [],
   "source": [
    "# Bee Hive data https://drive.google.com/file/d/142IBcs6OyQiJxO7owPfkEBFbkrudnh0g/view?usp=sharing"
   ]
  },
  {
   "cell_type": "code",
   "execution_count": 1,
   "outputs": [],
   "source": [
    "APP = \"BeeHive\""
   ],
   "metadata": {
    "collapsed": false,
    "pycharm": {
     "name": "#%%\n"
    }
   }
  },
  {
   "cell_type": "code",
   "execution_count": 2,
   "outputs": [
    {
     "name": "stdout",
     "output_type": "stream",
     "text": [
      "Obtaining file:///Users/gideonbar/dev/peps/Wielder\r\n",
      "  Preparing metadata (setup.py) ... \u001B[?25ldone\r\n",
      "\u001B[?25hRequirement already satisfied: Cython==0.29.24 in /Users/gideonbar/.pyenv/versions/3.10.6/envs/tpep/lib/python3.10/site-packages (from wielder==0.2.9) (0.29.24)\r\n",
      "Requirement already satisfied: GitPython==3.1.18 in /Users/gideonbar/.pyenv/versions/3.10.6/envs/tpep/lib/python3.10/site-packages (from wielder==0.2.9) (3.1.18)\r\n",
      "Requirement already satisfied: PyYAML==5.4.1 in /Users/gideonbar/.pyenv/versions/3.10.6/envs/tpep/lib/python3.10/site-packages (from wielder==0.2.9) (5.4.1)\r\n",
      "Requirement already satisfied: kubernetes==17.17.0 in /Users/gideonbar/.pyenv/versions/3.10.6/envs/tpep/lib/python3.10/site-packages (from wielder==0.2.9) (17.17.0)\r\n",
      "Requirement already satisfied: Rx==3.2.0 in /Users/gideonbar/.pyenv/versions/3.10.6/envs/tpep/lib/python3.10/site-packages (from wielder==0.2.9) (3.2.0)\r\n",
      "Requirement already satisfied: jprops==2.0.2 in /Users/gideonbar/.pyenv/versions/3.10.6/envs/tpep/lib/python3.10/site-packages (from wielder==0.2.9) (2.0.2)\r\n",
      "Requirement already satisfied: pyhocon==0.3.58 in /Users/gideonbar/.pyenv/versions/3.10.6/envs/tpep/lib/python3.10/site-packages (from wielder==0.2.9) (0.3.58)\r\n",
      "Requirement already satisfied: requests==2.26.0 in /Users/gideonbar/.pyenv/versions/3.10.6/envs/tpep/lib/python3.10/site-packages (from wielder==0.2.9) (2.26.0)\r\n",
      "Requirement already satisfied: botocore==1.21.21 in /Users/gideonbar/.pyenv/versions/3.10.6/envs/tpep/lib/python3.10/site-packages (from wielder==0.2.9) (1.21.21)\r\n",
      "Requirement already satisfied: boto3==1.18.21 in /Users/gideonbar/.pyenv/versions/3.10.6/envs/tpep/lib/python3.10/site-packages (from wielder==0.2.9) (1.18.21)\r\n",
      "Requirement already satisfied: s3transfer<0.6.0,>=0.5.0 in /Users/gideonbar/.pyenv/versions/3.10.6/envs/tpep/lib/python3.10/site-packages (from boto3==1.18.21->wielder==0.2.9) (0.5.2)\r\n",
      "Requirement already satisfied: jmespath<1.0.0,>=0.7.1 in /Users/gideonbar/.pyenv/versions/3.10.6/envs/tpep/lib/python3.10/site-packages (from boto3==1.18.21->wielder==0.2.9) (0.10.0)\r\n",
      "Requirement already satisfied: urllib3<1.27,>=1.25.4 in /Users/gideonbar/.pyenv/versions/3.10.6/envs/tpep/lib/python3.10/site-packages (from botocore==1.21.21->wielder==0.2.9) (1.26.12)\r\n",
      "Requirement already satisfied: python-dateutil<3.0.0,>=2.1 in /Users/gideonbar/.pyenv/versions/3.10.6/envs/tpep/lib/python3.10/site-packages (from botocore==1.21.21->wielder==0.2.9) (2.8.2)\r\n",
      "Requirement already satisfied: gitdb<5,>=4.0.1 in /Users/gideonbar/.pyenv/versions/3.10.6/envs/tpep/lib/python3.10/site-packages (from GitPython==3.1.18->wielder==0.2.9) (4.0.9)\r\n",
      "Requirement already satisfied: certifi>=14.05.14 in /Users/gideonbar/.pyenv/versions/3.10.6/envs/tpep/lib/python3.10/site-packages (from kubernetes==17.17.0->wielder==0.2.9) (2022.9.24)\r\n",
      "Requirement already satisfied: websocket-client!=0.40.0,!=0.41.*,!=0.42.*,>=0.32.0 in /Users/gideonbar/.pyenv/versions/3.10.6/envs/tpep/lib/python3.10/site-packages (from kubernetes==17.17.0->wielder==0.2.9) (1.4.1)\r\n",
      "Requirement already satisfied: requests-oauthlib in /Users/gideonbar/.pyenv/versions/3.10.6/envs/tpep/lib/python3.10/site-packages (from kubernetes==17.17.0->wielder==0.2.9) (1.3.1)\r\n",
      "Requirement already satisfied: setuptools>=21.0.0 in /Users/gideonbar/.pyenv/versions/3.10.6/envs/tpep/lib/python3.10/site-packages (from kubernetes==17.17.0->wielder==0.2.9) (63.2.0)\r\n",
      "Requirement already satisfied: six>=1.9.0 in /Users/gideonbar/.pyenv/versions/3.10.6/envs/tpep/lib/python3.10/site-packages (from kubernetes==17.17.0->wielder==0.2.9) (1.16.0)\r\n",
      "Requirement already satisfied: google-auth>=1.0.1 in /Users/gideonbar/.pyenv/versions/3.10.6/envs/tpep/lib/python3.10/site-packages (from kubernetes==17.17.0->wielder==0.2.9) (2.12.0)\r\n",
      "Requirement already satisfied: pyparsing>=2.0.3 in /Users/gideonbar/.pyenv/versions/3.10.6/envs/tpep/lib/python3.10/site-packages (from pyhocon==0.3.58->wielder==0.2.9) (3.0.9)\r\n",
      "Requirement already satisfied: charset-normalizer~=2.0.0 in /Users/gideonbar/.pyenv/versions/3.10.6/envs/tpep/lib/python3.10/site-packages (from requests==2.26.0->wielder==0.2.9) (2.0.12)\r\n",
      "Requirement already satisfied: idna<4,>=2.5 in /Users/gideonbar/.pyenv/versions/3.10.6/envs/tpep/lib/python3.10/site-packages (from requests==2.26.0->wielder==0.2.9) (3.4)\r\n",
      "Requirement already satisfied: smmap<6,>=3.0.1 in /Users/gideonbar/.pyenv/versions/3.10.6/envs/tpep/lib/python3.10/site-packages (from gitdb<5,>=4.0.1->GitPython==3.1.18->wielder==0.2.9) (5.0.0)\r\n",
      "Requirement already satisfied: rsa<5,>=3.1.4 in /Users/gideonbar/.pyenv/versions/3.10.6/envs/tpep/lib/python3.10/site-packages (from google-auth>=1.0.1->kubernetes==17.17.0->wielder==0.2.9) (4.9)\r\n",
      "Requirement already satisfied: pyasn1-modules>=0.2.1 in /Users/gideonbar/.pyenv/versions/3.10.6/envs/tpep/lib/python3.10/site-packages (from google-auth>=1.0.1->kubernetes==17.17.0->wielder==0.2.9) (0.2.8)\r\n",
      "Requirement already satisfied: cachetools<6.0,>=2.0.0 in /Users/gideonbar/.pyenv/versions/3.10.6/envs/tpep/lib/python3.10/site-packages (from google-auth>=1.0.1->kubernetes==17.17.0->wielder==0.2.9) (5.2.0)\r\n",
      "Requirement already satisfied: oauthlib>=3.0.0 in /Users/gideonbar/.pyenv/versions/3.10.6/envs/tpep/lib/python3.10/site-packages (from requests-oauthlib->kubernetes==17.17.0->wielder==0.2.9) (3.2.1)\r\n",
      "Requirement already satisfied: pyasn1<0.5.0,>=0.4.6 in /Users/gideonbar/.pyenv/versions/3.10.6/envs/tpep/lib/python3.10/site-packages (from pyasn1-modules>=0.2.1->google-auth>=1.0.1->kubernetes==17.17.0->wielder==0.2.9) (0.4.8)\r\n",
      "Installing collected packages: wielder\r\n",
      "  Attempting uninstall: wielder\r\n",
      "    Found existing installation: wielder 0.2.9\r\n",
      "    Uninstalling wielder-0.2.9:\r\n",
      "      Successfully uninstalled wielder-0.2.9\r\n",
      "  Running setup.py develop for wielder\r\n",
      "Successfully installed wielder-0.2.9\r\n",
      "Obtaining file:///Users/gideonbar/dev/peps/pep-data/src\r\n",
      "  Preparing metadata (setup.py) ... \u001B[?25ldone\r\n",
      "\u001B[?25hRequirement already satisfied: pyspark==3.0.1 in /Users/gideonbar/.pyenv/versions/3.10.6/envs/tpep/lib/python3.10/site-packages (from pep-data==0.1) (3.0.1)\r\n",
      "Requirement already satisfied: matplotlib-inline==0.1.6 in /Users/gideonbar/.pyenv/versions/3.10.6/envs/tpep/lib/python3.10/site-packages (from pep-data==0.1) (0.1.6)\r\n",
      "Requirement already satisfied: pandas==1.5.0 in /Users/gideonbar/.pyenv/versions/3.10.6/envs/tpep/lib/python3.10/site-packages (from pep-data==0.1) (1.5.0)\r\n",
      "Requirement already satisfied: traitlets in /Users/gideonbar/.pyenv/versions/3.10.6/envs/tpep/lib/python3.10/site-packages (from matplotlib-inline==0.1.6->pep-data==0.1) (5.4.0)\r\n",
      "Requirement already satisfied: python-dateutil>=2.8.1 in /Users/gideonbar/.pyenv/versions/3.10.6/envs/tpep/lib/python3.10/site-packages (from pandas==1.5.0->pep-data==0.1) (2.8.2)\r\n",
      "Requirement already satisfied: numpy>=1.21.0 in /Users/gideonbar/.pyenv/versions/3.10.6/envs/tpep/lib/python3.10/site-packages (from pandas==1.5.0->pep-data==0.1) (1.23.4)\r\n",
      "Requirement already satisfied: pytz>=2020.1 in /Users/gideonbar/.pyenv/versions/3.10.6/envs/tpep/lib/python3.10/site-packages (from pandas==1.5.0->pep-data==0.1) (2022.4)\r\n",
      "Requirement already satisfied: py4j==0.10.9 in /Users/gideonbar/.pyenv/versions/3.10.6/envs/tpep/lib/python3.10/site-packages (from pyspark==3.0.1->pep-data==0.1) (0.10.9)\r\n",
      "Requirement already satisfied: six>=1.5 in /Users/gideonbar/.pyenv/versions/3.10.6/envs/tpep/lib/python3.10/site-packages (from python-dateutil>=2.8.1->pandas==1.5.0->pep-data==0.1) (1.16.0)\r\n",
      "Installing collected packages: pep-data\r\n",
      "  Attempting uninstall: pep-data\r\n",
      "    Found existing installation: pep-data 0.1\r\n",
      "    Uninstalling pep-data-0.1:\r\n",
      "      Successfully uninstalled pep-data-0.1\r\n",
      "  Running setup.py develop for pep-data\r\n",
      "Successfully installed pep-data-0.1\r\n"
     ]
    }
   ],
   "source": [
    "# Install a pip package in the current Jupyter kernel\n",
    "!{sys.executable} -m pip install -e '../../../Wielder/'\n",
    "!{sys.executable} -m pip install -e '../'"
   ],
   "metadata": {
    "collapsed": false,
    "pycharm": {
     "name": "#%%\n"
    }
   }
  },
  {
   "cell_type": "code",
   "execution_count": 6,
   "outputs": [
    {
     "name": "stdout",
     "output_type": "stream",
     "text": [
      "('why_does_a_chicken', \"I don't know why\")\n",
      "('BeeHive', ConfigTree([('raw_col_names', ['remove', 'Bee ID', 'remove1', 'DaughtersEfficiencyScore', 'remove2', 'Father SIZE', 'Father TYPE', 'remove3', 'X', 'Y', 'Z']), ('double_cols', ['DaughtersEfficiencyScore', 'X', 'Y', 'Z']), ('integer_cols', ['Father SIZE'])]))\n",
      "('moto', 'who dares, wins!')\n"
     ]
    }
   ],
   "source": [
    "from pep_data.project import get_project_conf\n",
    "\n",
    "conf = get_project_conf()\n",
    "\n",
    "app_conf = conf[APP]\n",
    "# print(conf)"
   ],
   "metadata": {
    "collapsed": false,
    "pycharm": {
     "name": "#%%\n"
    }
   }
  },
  {
   "cell_type": "code",
   "execution_count": 7,
   "outputs": [],
   "source": [
    "from pyspark.sql import SparkSession, Row\n",
    "from pyspark.sql.types import StructType\n",
    "from pyspark.sql import functions as f"
   ],
   "metadata": {
    "collapsed": false,
    "pycharm": {
     "name": "#%%\n"
    }
   }
  },
  {
   "cell_type": "code",
   "execution_count": 8,
   "id": "59c78f8a",
   "metadata": {
    "pycharm": {
     "name": "#%%\n"
    }
   },
   "outputs": [
    {
     "name": "stderr",
     "output_type": "stream",
     "text": [
      "22/10/13 10:27:05 WARN NativeCodeLoader: Unable to load native-hadoop library for your platform... using builtin-java classes where applicable\n",
      "Using Spark's default log4j profile: org/apache/spark/log4j-defaults.properties\n",
      "Setting default log level to \"WARN\".\n",
      "To adjust logging level use sc.setLogLevel(newLevel). For SparkR, use setLogLevel(newLevel).\n"
     ]
    }
   ],
   "source": [
    "spark = SparkSession.builder.appName(APP).getOrCreate()"
   ]
  },
  {
   "cell_type": "code",
   "execution_count": 11,
   "id": "7cb41516",
   "metadata": {
    "pycharm": {
     "name": "#%%\n"
    }
   },
   "outputs": [],
   "source": [
    "from pep_data.spark.util import field_to_struct\n",
    "\n",
    "#Create schema for the data\n",
    "\n",
    "raw_col_names = app_conf['raw_col_names']\n",
    "double_cols = app_conf['double_cols']\n",
    "integer_cols = app_conf['integer_cols']\n",
    "\n",
    "\n",
    "# Create all the fields\n",
    "fields = [field_to_struct(header, doubles=double_cols, integers=integer_cols) for header in raw_col_names]\n",
    "\n",
    "# Create the schema from th e fields\n",
    "schema = StructType(fields)"
   ]
  },
  {
   "cell_type": "code",
   "execution_count": 12,
   "id": "f60db88e",
   "metadata": {
    "pycharm": {
     "name": "#%%\n"
    }
   },
   "outputs": [
    {
     "name": "stdout",
     "output_type": "stream",
     "text": [
      "+------+------+--------------------+------------------------+-----------------+-----------+-----------+---------+-----------+-----------+-----------+\n",
      "|remove|Bee ID|             remove1|DaughtersEfficiencyScore|          remove2|Father SIZE|Father TYPE|  remove3|          X|          Y|          Z|\n",
      "+------+------+--------------------+------------------------+-----------------+-----------+-----------+---------+-----------+-----------+-----------+\n",
      "|Bee ID|   0_0|DaughtersEfficien...|           -0.1647494899|Father SIZE&TYPE:|          5|     107027|Locus XYZ|   5.345708|25.54008605|24.79858692|\n",
      "|Bee ID|   0_9|DaughtersEfficien...|          -0.09111780618|Father SIZE&TYPE:|          8|      35473|Locus XYZ| 3.61617713|15.39993678|14.11150683|\n",
      "|Bee ID|  0_16|DaughtersEfficien...|           -0.2783737487|Father SIZE&TYPE:|          9|      72732|Locus XYZ|6.487132473|27.96111467|23.50405554|\n",
      "|Bee ID|  0_76|DaughtersEfficien...|           0.01988315069|Father SIZE&TYPE:|          6|      49069|Locus XYZ|8.285176906|21.88111447|10.80561155|\n",
      "|Bee ID|  0_35|DaughtersEfficien...|           -0.0758420403|Father SIZE&TYPE:|          5|        187|Locus XYZ|       -1.0|       13.0|       17.0|\n",
      "+------+------+--------------------+------------------------+-----------------+-----------+-----------+---------+-----------+-----------+-----------+\n",
      "only showing top 5 rows\n",
      "\n"
     ]
    }
   ],
   "source": [
    "# Read the data from the csv using the schema\n",
    "df = spark.read.schema(schema).csv('Downloads/BeeHiveTestData.csv')\n",
    "\n",
    "df.show(5)"
   ]
  },
  {
   "cell_type": "code",
   "execution_count": 13,
   "id": "3e7d5340",
   "metadata": {
    "pycharm": {
     "name": "#%%\n"
    }
   },
   "outputs": [
    {
     "name": "stdout",
     "output_type": "stream",
     "text": [
      "+------+------------------------+-----------+-----------+-----------+-----------+-----------+\n",
      "|Bee ID|DaughtersEfficiencyScore|Father SIZE|Father TYPE|          X|          Y|          Z|\n",
      "+------+------------------------+-----------+-----------+-----------+-----------+-----------+\n",
      "|   0_0|           -0.1647494899|          5|     107027|   5.345708|25.54008605|24.79858692|\n",
      "|   0_9|          -0.09111780618|          8|      35473| 3.61617713|15.39993678|14.11150683|\n",
      "|  0_16|           -0.2783737487|          9|      72732|6.487132473|27.96111467|23.50405554|\n",
      "|  0_76|           0.01988315069|          6|      49069|8.285176906|21.88111447|10.80561155|\n",
      "|  0_35|           -0.0758420403|          5|        187|       -1.0|       13.0|       17.0|\n",
      "+------+------------------------+-----------+-----------+-----------+-----------+-----------+\n",
      "only showing top 5 rows\n",
      "\n"
     ]
    }
   ],
   "source": [
    "cols_to_keep = [x for x in df.columns if 'remove' not in x]\n",
    "df = df.select(*cols_to_keep)\n",
    "\n",
    "df.show(5)"
   ]
  },
  {
   "cell_type": "code",
   "execution_count": null,
   "id": "69310644",
   "metadata": {
    "pycharm": {
     "name": "#%%\n"
    }
   },
   "outputs": [],
   "source": [
    "# Remove unnecessary columns\n",
    "cols_to_drop = ('Father TYPE')\n",
    "df_cleaned = df.drop(cols_to_drop)\n",
    "\n",
    "df_cleaned.show(5)"
   ]
  },
  {
   "cell_type": "code",
   "execution_count": null,
   "id": "deede606",
   "metadata": {
    "pycharm": {
     "name": "#%%\n"
    }
   },
   "outputs": [],
   "source": [
    "# Create a data frame with the best bee (lowest DaughtersEfficiencyScore) for each Father SIZE\n",
    "df_cleaned = df_cleaned.join(df_cleaned.groupBy('Father SIZE').agg(\n",
    "    f.min('DaughtersEfficiencyScore').alias('DaughtersEfficiencyScore')), on='DaughtersEfficiencyScore', \n",
    "               how='leftsemi')\n",
    "\n",
    "df_cleaned.show()"
   ]
  },
  {
   "cell_type": "code",
   "execution_count": null,
   "id": "e01a389c",
   "metadata": {
    "pycharm": {
     "name": "#%%\n"
    }
   },
   "outputs": [],
   "source": [
    "# Convert from pyspark data frame to pandas data frame\n",
    "df_cleaned_pd = df_cleaned.toPandas()\n",
    "\n",
    "df_cleaned_pd"
   ]
  },
  {
   "cell_type": "code",
   "execution_count": null,
   "id": "90dec873",
   "metadata": {
    "pycharm": {
     "name": "#%%\n"
    }
   },
   "outputs": [],
   "source": [
    "%matplotlib notebook\n",
    "import matplotlib.pyplot as plt\n",
    "from mpl_toolkits import mplot3d"
   ]
  },
  {
   "cell_type": "code",
   "execution_count": null,
   "id": "082ecd4e",
   "metadata": {
    "pycharm": {
     "name": "#%%\n"
    }
   },
   "outputs": [],
   "source": [
    "# Create scatter plot based on bees location with text annotation over data point\n",
    "\n",
    "# Colors for bee groups (groups of Father SIZE)\n",
    "colors = ('blue', 'orange', 'green', 'red', 'purple', 'brown', 'pink', 'gray', 'olive', 'cyan', 'yellow')\n",
    "\n",
    "# Number of rows in the data frame\n",
    "length = len(df_cleaned_pd.index)\n",
    "\n",
    "# Create plot figure\n",
    "fig = plt.figure()\n",
    "\n",
    "# Create 3D axes\n",
    "ax = plt.axes(projection='3d')\n",
    "\n",
    "for i in range (length):\n",
    "    \n",
    "    # Create dot on graph with color and label\n",
    "    ax.scatter3D(df_cleaned_pd['X'][i], df_cleaned_pd['Y'][i], df_cleaned_pd['Z'][i],\n",
    "            c = colors[i], label = f\"Father Size = {df_cleaned_pd['Father SIZE'][i]}\")\n",
    "    \n",
    "    # Add text(Bee_ID) for dot\n",
    "    ax.text(df_cleaned_pd['X'][i], df_cleaned_pd['Y'][i], df_cleaned_pd['Z'][i], \n",
    "            '%s' % (df_cleaned_pd['Bee ID'][i]), size=10)\n",
    "\n",
    "# Add Plot Title\n",
    "ax.set_title('X Y Z of all father sizes')\n",
    "\n",
    "# Set x axis name\n",
    "ax.set_xlabel('X')\n",
    "\n",
    "# Set y axis name\n",
    "ax.set_ylabel('Y')\n",
    "\n",
    "#Set z axis name\n",
    "ax.set_zlabel('Z')\n",
    "\n",
    "# Create legend(descriptive labels for each plotted data series)\n",
    "fig.legend(loc=\"upper left\")\n",
    "\n",
    "# Show plot, not necessary but used to remove unwanted output\n",
    "plt.show()"
   ]
  },
  {
   "cell_type": "code",
   "execution_count": null,
   "id": "286799c1",
   "metadata": {
    "pycharm": {
     "name": "#%%\n"
    }
   },
   "outputs": [],
   "source": [
    "import numpy as np"
   ]
  },
  {
   "cell_type": "code",
   "execution_count": null,
   "id": "f98eb1c1",
   "metadata": {
    "pycharm": {
     "name": "#%%\n"
    }
   },
   "outputs": [],
   "source": [
    "# Convert from pyspark data frame to numpy array\n",
    "df_cleaned_np = np.array(df_cleaned.select(\"X\", \"Y\", \"Z\").collect())\n",
    "\n",
    "df_cleaned_np"
   ]
  },
  {
   "cell_type": "code",
   "execution_count": null,
   "id": "66139384",
   "metadata": {
    "pycharm": {
     "name": "#%%\n",
     "is_executing": true
    }
   },
   "outputs": [],
   "source": [
    "import matplotlib.pyplot as plt\n",
    "from mpl_toolkits.mplot3d import proj3d"
   ]
  },
  {
   "cell_type": "code",
   "execution_count": null,
   "id": "bf9c8f38",
   "metadata": {
    "pycharm": {
     "name": "#%%\n",
     "is_executing": true
    }
   },
   "outputs": [],
   "source": [
    "# Create scatter plot based on bees location with text annotation over data point closest to mouse\n",
    "\n",
    "def visualize3DData (df_cleaned_np):\n",
    "    \"\"\"Visualize data in 3d plot with popover next to mouse position.\n",
    "\n",
    "    Args:\n",
    "        X (np.array) - array of points, of shape (numPoints, 3)\n",
    "    Returns:\n",
    "        None\n",
    "    \"\"\"\n",
    "    fig = plt.figure()\n",
    "    ax = plt.axes(projection='3d')\n",
    "    for i in range (length):\n",
    "        ax.scatter3D(df_cleaned_pd['X'][i], df_cleaned_pd['Y'][i], df_cleaned_pd['Z'][i],\n",
    "            c = colors[i], label = f\"Father Size = {df_cleaned_pd['Father SIZE'][i]}\", depthshade = False, picker = True)\n",
    "\n",
    "\n",
    "\n",
    "    def distance(point, event):\n",
    "        \"\"\"Return distance between mouse position and given data point\n",
    "\n",
    "        Args:\n",
    "            point (np.array): np.array of shape (3,), with x,y,z in data coords\n",
    "            event (MouseEvent): mouse event (which contains mouse position in .x and .xdata)\n",
    "        Returns:\n",
    "            distance (np.float64): distance (in screen coords) between mouse pos and data point\n",
    "        \"\"\"\n",
    "        assert point.shape == (3,), \"distance: point.shape is wrong: %s, must be (3,)\" % point.shape\n",
    "\n",
    "        # Project 3d data space to 2d data space\n",
    "        x2, y2, _ = proj3d.proj_transform(point[0], point[1], point[2], plt.gca().get_proj())\n",
    "        # Convert 2d data space to 2d screen space\n",
    "        x3, y3 = ax.transData.transform((x2, y2))\n",
    "\n",
    "        return np.sqrt ((x3 - event.x)**2 + (y3 - event.y)**2)\n",
    "\n",
    "\n",
    "    def calcClosestDatapoint(df_cleaned_np, event):\n",
    "        \"\"\"\"Calculate which data point is closest to the mouse position.\n",
    "\n",
    "        Args:\n",
    "            X (np.array) - array of points, of shape (numPoints, 3)\n",
    "            event (MouseEvent) - mouse event (containing mouse position)\n",
    "        Returns:\n",
    "            smallestIndex (int) - the index (into the array of points X) of the element closest to the mouse position\n",
    "        \"\"\"\n",
    "        distances = [distance (df_cleaned_np[i, 0:3], event) for i in range(df_cleaned_np.shape[0])]\n",
    "        return np.argmin(distances)\n",
    "\n",
    "\n",
    "    def annotatePlot(df_cleaned_np, index):\n",
    "        \"\"\"Create popover label in 3d chart\n",
    "\n",
    "        Args:\n",
    "            X (np.array) - array of points, of shape (numPoints, 3)\n",
    "            index (int) - index (into points array X) of item which should be printed\n",
    "        Returns:\n",
    "            None\n",
    "        \"\"\"\n",
    "        # If we have previously displayed another label, remove it first\n",
    "        if hasattr(annotatePlot, 'label'):\n",
    "            annotatePlot.label.remove()\n",
    "        # Get data point from array of points X, at position index\n",
    "        x2, y2, _ = proj3d.proj_transform(df_cleaned_np[index, 0], df_cleaned_np[index, 1], df_cleaned_np[index, 2], ax.get_proj())\n",
    "        annotatePlot.label = plt.annotate( \"Bee ID = %s\" % df_cleaned_pd['Bee ID'][index],\n",
    "            xy = (x2, y2), xytext = (-20, 20), textcoords = 'offset points', ha = 'right', va = 'bottom',\n",
    "            bbox = dict(boxstyle = 'round,pad=0.5', fc = 'yellow', alpha = 0.5),\n",
    "            arrowprops = dict(arrowstyle = '->', connectionstyle = 'arc3,rad=0'))\n",
    "        fig.canvas.draw()\n",
    "\n",
    "\n",
    "    def onMouseMotion(event):\n",
    "        \"\"\"Event that is triggered when mouse is moved. Shows text annotation over data point closest to mouse.\"\"\"\n",
    "        closestIndex = calcClosestDatapoint(df_cleaned_np, event)\n",
    "        annotatePlot (df_cleaned_np, closestIndex)\n",
    "\n",
    "    fig.canvas.mpl_connect('motion_notify_event', onMouseMotion)  # on mouse motion\n",
    "    plt.show()\n",
    "\n",
    "\n"
   ]
  },
  {
   "cell_type": "code",
   "execution_count": null,
   "outputs": [],
   "source": [
    "visualize3DData (df_cleaned_np)"
   ],
   "metadata": {
    "collapsed": false,
    "pycharm": {
     "name": "#%%\n"
    }
   }
  }
 ],
 "metadata": {
  "kernelspec": {
   "display_name": "Python 3 (ipykernel)",
   "language": "python",
   "name": "python3"
  },
  "language_info": {
   "codemirror_mode": {
    "name": "ipython",
    "version": 3
   },
   "file_extension": ".py",
   "mimetype": "text/x-python",
   "name": "python",
   "nbconvert_exporter": "python",
   "pygments_lexer": "ipython3",
   "version": "3.10.6"
  }
 },
 "nbformat": 4,
 "nbformat_minor": 5
}