{
 "cells": [
  {
   "cell_type": "code",
   "execution_count": null,
   "id": "0e3ad529",
   "metadata": {},
   "outputs": [],
   "source": [
    "! mvn clean install -f '../../../Pipelines/datalake/CassandraPipe/pom.xml'"
   ]
  },
  {
   "cell_type": "code",
   "execution_count": null,
   "id": "39165409",
   "metadata": {},
   "outputs": [],
   "source": [
    "!DIR=\"$( cd \"$( dirname \"${BASH_SOURCE[0]}\" )\" && pwd )\";echo \"$0 is running from: $DIR\""
   ]
  },
  {
   "cell_type": "code",
   "execution_count": null,
   "id": "f7121cfc",
   "metadata": {},
   "outputs": [],
   "source": [
    "# !{sys.executable} -m pip install --upgrade pip\n",
    "\n",
    "# Wilder doesn't work\n",
    "!{sys.executable} -m pip install -e '../../../Wielder'\n",
    "\n",
    "# pep-services doesn't work\n",
    "# !{sys.executable} -m pip install -e '../../../pep-services/src'\n",
    "\n",
    "# !{sys.executable} -m pip install -e '../'"
   ]
  },
  {
   "cell_type": "code",
   "execution_count": null,
   "id": "606961dc",
   "metadata": {},
   "outputs": [],
   "source": [
    "# https://stackoverflow.com/questions/38368318/installing-a-pip-package-from-within-a-jupyter-notebook-not-working\n",
    "!source activate py36;pip install '../../../pep-services/src'\n"
   ]
  },
  {
   "cell_type": "code",
   "execution_count": null,
   "id": "f463a119",
   "metadata": {},
   "outputs": [],
   "source": [
    "# https://stackoverflow.com/questions/34976803/sys-path-different-in-jupyter-and-python-how-to-import-own-modules-in-jupyter\n",
    "import sys\n",
    "sys.path.append('/Users/daniel/dev/duds/pep-services') # go to parent dir\n",
    "sys.path.append('/Users/daniel/dev/duds/Pipelines') # go to parent dir\n",
    "\n",
    "#from customFunctions import *\n",
    "%load_ext autoreload\n",
    "%autoreload 2"
   ]
  },
  {
   "cell_type": "code",
   "execution_count": null,
   "id": "30f8ea43",
   "metadata": {},
   "outputs": [],
   "source": [
    "from  wield_services.wield.deploy.configurer import get_project_deploy_mode\n",
    "\n",
    "wield_mode, conf, _action = get_project_deploy_mode()"
   ]
  },
  {
   "cell_type": "code",
   "execution_count": null,
   "id": "f5d53b97",
   "metadata": {},
   "outputs": [],
   "source": [
    "# In the file.ipynb importing the newfile.py file\n",
    "import os\n",
    "os.chdir('/Users/daniel/dev/duds')\n",
    "#from app.config import newfile"
   ]
  },
  {
   "cell_type": "code",
   "execution_count": null,
   "id": "bd2a1111",
   "metadata": {},
   "outputs": [],
   "source": [
    "# https://mg.readthedocs.io/importing-local-python-modules-from-jupyter-notebooks/sys-path-in-notebook/path-notebook.html"
   ]
  },
  {
   "cell_type": "code",
   "execution_count": null,
   "id": "eeb4532a",
   "metadata": {},
   "outputs": [],
   "source": [
    "# https://stackoverflow.com/questions/34389029/cannot-import-modules-in-jupyter-notebook-wrong-sys-path"
   ]
  },
  {
   "cell_type": "code",
   "execution_count": null,
   "id": "9f03929b",
   "metadata": {},
   "outputs": [],
   "source": [
    "# https://www.lucypark.kr/blog/2013/02/10/when-python-imports-and-ipython-does-not/"
   ]
  },
  {
   "cell_type": "code",
   "execution_count": null,
   "id": "d8a73b09",
   "metadata": {},
   "outputs": [],
   "source": []
  },
  {
   "cell_type": "code",
   "execution_count": null,
   "id": "98771295",
   "metadata": {},
   "outputs": [],
   "source": [
    "# https://stackoverflow.com/questions/35946868/adding-custom-jars-to-pyspark-in-jupyter-notebook\n",
    "import os\n",
    "os.environ['PYSPARK_SUBMIT_ARGS'] ='--jars /Users/daniel/dev/duds/Pipelines/datalake/CassandraPipe/target/CassandraPipe-1.0.0-SNAPSHOT.jar'"
   ]
  },
  {
   "cell_type": "code",
   "execution_count": null,
   "id": "5e42338b",
   "metadata": {},
   "outputs": [],
   "source": [
    "! AddJar '/Users/daniel/dev/duds/Pipelines/datalake/CassandraPipe/target/CassandraPipe-1.0.0-SNAPSHOT-jar-with-dependencies.jar'"
   ]
  },
  {
   "cell_type": "code",
   "execution_count": null,
   "id": "5ab10827",
   "metadata": {},
   "outputs": [],
   "source": [
    "# #https://docs.cloudera.com/cdsw/1.9.2/spark-configuration/topics/cdsw-adding-remote-or-local-jars.html\n",
    "%AddJar \"/Users/daniel/dev/duds/Pipelines/datalake/CassandraPipe/target/CassandraPipe-1.0.0-SNAPSHOT-jar-with-dependencies.jar\""
   ]
  },
  {
   "cell_type": "code",
   "execution_count": null,
   "id": "105b0fb5",
   "metadata": {},
   "outputs": [],
   "source": []
  },
  {
   "cell_type": "code",
   "execution_count": null,
   "id": "1182a5c4",
   "metadata": {},
   "outputs": [],
   "source": [
    "!echo $PATH"
   ]
  },
  {
   "cell_type": "code",
   "execution_count": null,
   "id": "6a330e33",
   "metadata": {},
   "outputs": [],
   "source": [
    "!type python"
   ]
  },
  {
   "cell_type": "code",
   "execution_count": null,
   "id": "d774de83",
   "metadata": {},
   "outputs": [],
   "source": [
    "!type ls"
   ]
  },
  {
   "cell_type": "code",
   "execution_count": null,
   "id": "1f781ef6",
   "metadata": {},
   "outputs": [],
   "source": [
    "!type type"
   ]
  },
  {
   "cell_type": "code",
   "execution_count": null,
   "id": "d3d5e0ca",
   "metadata": {},
   "outputs": [],
   "source": [
    "!type -a python"
   ]
  },
  {
   "cell_type": "code",
   "execution_count": null,
   "id": "c49925ed",
   "metadata": {},
   "outputs": [],
   "source": [
    "!type -a pip"
   ]
  },
  {
   "cell_type": "code",
   "execution_count": null,
   "id": "11e4185a",
   "metadata": {},
   "outputs": [],
   "source": [
    "import sys\n",
    "sys.path"
   ]
  },
  {
   "cell_type": "code",
   "execution_count": null,
   "id": "95c5783e",
   "metadata": {},
   "outputs": [],
   "source": [
    "import numpy\n",
    "numpy.__path__"
   ]
  },
  {
   "cell_type": "code",
   "execution_count": null,
   "id": "4d4e6f38",
   "metadata": {},
   "outputs": [],
   "source": [
    "paths = !type -a python\n",
    "for path in set(paths):\n",
    "    path = path.split()[-1]\n",
    "    print(path)\n",
    "    !{path} -c \"import sys; print(sys.path)\"\n",
    "    print()"
   ]
  },
  {
   "cell_type": "code",
   "execution_count": null,
   "id": "486fd711",
   "metadata": {},
   "outputs": [],
   "source": [
    "!type pip"
   ]
  },
  {
   "cell_type": "code",
   "execution_count": null,
   "id": "99ab3886",
   "metadata": {},
   "outputs": [],
   "source": [
    "!jupyter kernelspec list"
   ]
  },
  {
   "cell_type": "code",
   "execution_count": null,
   "id": "911acb11",
   "metadata": {},
   "outputs": [],
   "source": [
    "!cat /usr/local/share/jupyter/kernels/spylon-kernel/kernel.json"
   ]
  },
  {
   "cell_type": "code",
   "execution_count": null,
   "id": "9a3a2338",
   "metadata": {},
   "outputs": [],
   "source": [
    "sys.executable"
   ]
  },
  {
   "cell_type": "code",
   "execution_count": null,
   "id": "a26af1ae",
   "metadata": {},
   "outputs": [],
   "source": []
  }
 ],
 "metadata": {
  "kernelspec": {
   "display_name": "Python 3 (ipykernel)",
   "language": "python",
   "name": "python3"
  },
  "language_info": {
   "codemirror_mode": {
    "name": "ipython",
    "version": 3
   },
   "file_extension": ".py",
   "mimetype": "text/x-python",
   "name": "python",
   "nbconvert_exporter": "python",
   "pygments_lexer": "ipython3",
   "version": "3.10.6"
  }
 },
 "nbformat": 4,
 "nbformat_minor": 5
}
