{
 "cells": [
  {
   "cell_type": "code",
   "execution_count": null,
   "outputs": [],
   "source": [
    "! mvn clean install -f '../../../Pipelines/datalake/CassandraPipe/pom.xml'"
   ],
   "metadata": {
    "collapsed": false
   }
  },
  {
   "cell_type": "code",
   "execution_count": null,
   "outputs": [],
   "source": [
    "!DIR=\"$( cd \"$( dirname \"${BASH_SOURCE[0]}\" )\" && pwd )\";echo \"$0 is running from: $DIR\""
   ],
   "metadata": {
    "collapsed": false
   }
  },
  {
   "cell_type": "code",
   "execution_count": null,
   "outputs": [],
   "source": [
    "# !{sys.executable} -m pip install --upgrade pip\n",
    "\n",
    "# Wilder doesn't work\n",
    "!{sys.executable} -m pip install -e '../../../Wielder'\n",
    "\n",
    "# pep-services doesn't work\n",
    "# !{sys.executable} -m pip install -e '../../../pep-services/src'\n",
    "\n",
    "# !{sys.executable} -m pip install -e '../'"
   ],
   "metadata": {
    "collapsed": false
   }
  },
  {
   "cell_type": "code",
   "execution_count": null,
   "outputs": [],
   "source": [
    "# https://stackoverflow.com/questions/38368318/installing-a-pip-package-from-within-a-jupyter-notebook-not-working\n",
    "!source activate py36;pip install '../../../pep-services/src\n"
   ],
   "metadata": {
    "collapsed": false
   }
  },
  {
   "cell_type": "code",
   "execution_count": null,
   "outputs": [],
   "source": [
    "# https://stackoverflow.com/questions/34976803/sys-path-different-in-jupyter-and-python-how-to-import-own-modules-in-jupyter\n",
    "import sys\n",
    "sys.path.append('/Users/daniel/dev/duds/pep-services') # go to parent dir\n",
    "#from customFunctions import *\n",
    "%load_ext autoreload\n",
    "%autoreload 2"
   ],
   "metadata": {
    "collapsed": false
   }
  },
  {
   "cell_type": "code",
   "execution_count": null,
   "outputs": [],
   "source": [
    "import sys\n",
    "sys.path"
   ],
   "metadata": {
    "collapsed": false
   }
  },
  {
   "cell_type": "code",
   "execution_count": null,
   "outputs": [],
   "source": [
    "from  wield_services.wield.deploy.configurer import get_project_deploy_mode\n",
    "\n",
    "wield_mode, conf, _action = get_project_deploy_mode()"
   ],
   "metadata": {
    "collapsed": false
   }
  },
  {
   "cell_type": "code",
   "execution_count": null,
   "outputs": [],
   "source": [
    "# In the file.ipynb importing the newfile.py file\n",
    "import os\n",
    "os.chdir('/Users/daniel/dev/duds')\n",
    "#from app.config import newfile"
   ],
   "metadata": {
    "collapsed": false
   }
  },
  {
   "cell_type": "code",
   "execution_count": null,
   "outputs": [],
   "source": [
    "# https://mg.readthedocs.io/importing-local-python-modules-from-jupyter-notebooks/sys-path-in-notebook/path-notebook.html"
   ],
   "metadata": {
    "collapsed": false
   }
  },
  {
   "cell_type": "code",
   "execution_count": null,
   "outputs": [],
   "source": [
    "# https://stackoverflow.com/questions/34389029/cannot-import-modules-in-jupyter-notebook-wrong-sys-path"
   ],
   "metadata": {
    "collapsed": false
   }
  },
  {
   "cell_type": "code",
   "execution_count": null,
   "outputs": [],
   "source": [
    "# https://www.lucypark.kr/blog/2013/02/10/when-python-imports-and-ipython-does-not/"
   ],
   "metadata": {
    "collapsed": false
   }
  },
  {
   "cell_type": "code",
   "execution_count": null,
   "outputs": [],
   "source": [],
   "metadata": {
    "collapsed": false
   }
  },
  {
   "cell_type": "code",
   "execution_count": null,
   "outputs": [],
   "source": [
    "# https://stackoverflow.com/questions/35946868/adding-custom-jars-to-pyspark-in-jupyter-notebook\n",
    "import os\n",
    "os.environ['PYSPARK_SUBMIT_ARGS'] ='--jars /Users/daniel/dev/duds/Pipelines/datalake/CassandraPipe/target/CassandraPipe-1.0.0-SNAPSHOT.jar'"
   ],
   "metadata": {
    "collapsed": false
   }
  },
  {
   "cell_type": "code",
   "execution_count": null,
   "outputs": [],
   "source": [
    "! AddJar '/Users/daniel/dev/duds/Pipelines/datalake/CassandraPipe/target/CassandraPipe-1.0.0-SNAPSHOT-jar-with-dependencies.jar'"
   ],
   "metadata": {
    "collapsed": false
   }
  }
 ],
 "metadata": {
  "kernelspec": {
   "display_name": "Python 3 (ipykernel)",
   "language": "python",
   "name": "python3"
  },
  "language_info": {
   "codemirror_mode": {
    "name": "ipython",
    "version": 3
   },
   "file_extension": ".py",
   "mimetype": "text/x-python",
   "name": "python",
   "nbconvert_exporter": "python",
   "pygments_lexer": "ipython3",
   "version": "3.10.6"
  }
 },
 "nbformat": 4,
 "nbformat_minor": 5
}
