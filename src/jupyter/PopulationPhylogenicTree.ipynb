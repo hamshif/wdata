{
 "cells": [
  {
   "cell_type": "code",
   "execution_count": 1,
   "outputs": [],
   "source": [
    "# Bee Hive data https://drive.google.com/file/d/142IBcs6OyQiJxO7owPfkEBFbkrudnh0g/view?usp=sharing"
   ],
   "metadata": {
    "collapsed": false
   }
  },
  {
   "cell_type": "code",
   "execution_count": 2,
   "outputs": [],
   "source": [
    "APP = 'BeeHive'"
   ],
   "metadata": {
    "collapsed": false
   }
  },
  {
   "cell_type": "code",
   "execution_count": 3,
   "outputs": [
    {
     "name": "stdout",
     "output_type": "stream",
     "text": [
      "Obtaining file:///Users/daniel/dev/duds/Wielder\r\n",
      "  Preparing metadata (setup.py) ... \u001B[?25ldone\r\n",
      "\u001B[?25hRequirement already satisfied: Cython==0.29.24 in /Users/daniel/.pyenv/versions/3.10.6/envs/dud/lib/python3.10/site-packages (from wielder==0.2.9) (0.29.24)\r\n",
      "Requirement already satisfied: GitPython==3.1.18 in /Users/daniel/.pyenv/versions/3.10.6/envs/dud/lib/python3.10/site-packages (from wielder==0.2.9) (3.1.18)\r\n",
      "Requirement already satisfied: PyYAML==5.4.1 in /Users/daniel/.pyenv/versions/3.10.6/envs/dud/lib/python3.10/site-packages (from wielder==0.2.9) (5.4.1)\r\n",
      "Requirement already satisfied: kubernetes==17.17.0 in /Users/daniel/.pyenv/versions/3.10.6/envs/dud/lib/python3.10/site-packages (from wielder==0.2.9) (17.17.0)\r\n",
      "Requirement already satisfied: Rx==3.2.0 in /Users/daniel/.pyenv/versions/3.10.6/envs/dud/lib/python3.10/site-packages (from wielder==0.2.9) (3.2.0)\r\n",
      "Requirement already satisfied: jprops==2.0.2 in /Users/daniel/.pyenv/versions/3.10.6/envs/dud/lib/python3.10/site-packages (from wielder==0.2.9) (2.0.2)\r\n",
      "Requirement already satisfied: pyhocon==0.3.58 in /Users/daniel/.pyenv/versions/3.10.6/envs/dud/lib/python3.10/site-packages (from wielder==0.2.9) (0.3.58)\r\n",
      "Requirement already satisfied: requests==2.26.0 in /Users/daniel/.pyenv/versions/3.10.6/envs/dud/lib/python3.10/site-packages (from wielder==0.2.9) (2.26.0)\r\n",
      "Requirement already satisfied: botocore==1.21.21 in /Users/daniel/.pyenv/versions/3.10.6/envs/dud/lib/python3.10/site-packages (from wielder==0.2.9) (1.21.21)\r\n",
      "Requirement already satisfied: boto3==1.18.21 in /Users/daniel/.pyenv/versions/3.10.6/envs/dud/lib/python3.10/site-packages (from wielder==0.2.9) (1.18.21)\r\n",
      "Requirement already satisfied: jmespath<1.0.0,>=0.7.1 in /Users/daniel/.pyenv/versions/3.10.6/envs/dud/lib/python3.10/site-packages (from boto3==1.18.21->wielder==0.2.9) (0.10.0)\r\n",
      "Requirement already satisfied: s3transfer<0.6.0,>=0.5.0 in /Users/daniel/.pyenv/versions/3.10.6/envs/dud/lib/python3.10/site-packages (from boto3==1.18.21->wielder==0.2.9) (0.5.2)\r\n",
      "Requirement already satisfied: urllib3<1.27,>=1.25.4 in /Users/daniel/.pyenv/versions/3.10.6/envs/dud/lib/python3.10/site-packages (from botocore==1.21.21->wielder==0.2.9) (1.26.12)\r\n",
      "Requirement already satisfied: python-dateutil<3.0.0,>=2.1 in /Users/daniel/.pyenv/versions/3.10.6/envs/dud/lib/python3.10/site-packages (from botocore==1.21.21->wielder==0.2.9) (2.8.2)\r\n",
      "Requirement already satisfied: gitdb<5,>=4.0.1 in /Users/daniel/.pyenv/versions/3.10.6/envs/dud/lib/python3.10/site-packages (from GitPython==3.1.18->wielder==0.2.9) (4.0.9)\r\n",
      "Requirement already satisfied: setuptools>=21.0.0 in /Users/daniel/.pyenv/versions/3.10.6/envs/dud/lib/python3.10/site-packages (from kubernetes==17.17.0->wielder==0.2.9) (63.2.0)\r\n",
      "Requirement already satisfied: six>=1.9.0 in /Users/daniel/.pyenv/versions/3.10.6/envs/dud/lib/python3.10/site-packages (from kubernetes==17.17.0->wielder==0.2.9) (1.16.0)\r\n",
      "Requirement already satisfied: certifi>=14.05.14 in /Users/daniel/.pyenv/versions/3.10.6/envs/dud/lib/python3.10/site-packages (from kubernetes==17.17.0->wielder==0.2.9) (2022.9.24)\r\n",
      "Requirement already satisfied: requests-oauthlib in /Users/daniel/.pyenv/versions/3.10.6/envs/dud/lib/python3.10/site-packages (from kubernetes==17.17.0->wielder==0.2.9) (1.3.1)\r\n",
      "Requirement already satisfied: websocket-client!=0.40.0,!=0.41.*,!=0.42.*,>=0.32.0 in /Users/daniel/.pyenv/versions/3.10.6/envs/dud/lib/python3.10/site-packages (from kubernetes==17.17.0->wielder==0.2.9) (1.4.1)\r\n",
      "Requirement already satisfied: google-auth>=1.0.1 in /Users/daniel/.pyenv/versions/3.10.6/envs/dud/lib/python3.10/site-packages (from kubernetes==17.17.0->wielder==0.2.9) (2.12.0)\r\n",
      "Requirement already satisfied: pyparsing>=2.0.3 in /Users/daniel/.pyenv/versions/3.10.6/envs/dud/lib/python3.10/site-packages (from pyhocon==0.3.58->wielder==0.2.9) (3.0.9)\r\n",
      "Requirement already satisfied: charset-normalizer~=2.0.0 in /Users/daniel/.pyenv/versions/3.10.6/envs/dud/lib/python3.10/site-packages (from requests==2.26.0->wielder==0.2.9) (2.0.12)\r\n",
      "Requirement already satisfied: idna<4,>=2.5 in /Users/daniel/.pyenv/versions/3.10.6/envs/dud/lib/python3.10/site-packages (from requests==2.26.0->wielder==0.2.9) (3.4)\r\n",
      "Requirement already satisfied: smmap<6,>=3.0.1 in /Users/daniel/.pyenv/versions/3.10.6/envs/dud/lib/python3.10/site-packages (from gitdb<5,>=4.0.1->GitPython==3.1.18->wielder==0.2.9) (5.0.0)\r\n",
      "Requirement already satisfied: rsa<5,>=3.1.4 in /Users/daniel/.pyenv/versions/3.10.6/envs/dud/lib/python3.10/site-packages (from google-auth>=1.0.1->kubernetes==17.17.0->wielder==0.2.9) (4.9)\r\n",
      "Requirement already satisfied: pyasn1-modules>=0.2.1 in /Users/daniel/.pyenv/versions/3.10.6/envs/dud/lib/python3.10/site-packages (from google-auth>=1.0.1->kubernetes==17.17.0->wielder==0.2.9) (0.2.8)\r\n",
      "Requirement already satisfied: cachetools<6.0,>=2.0.0 in /Users/daniel/.pyenv/versions/3.10.6/envs/dud/lib/python3.10/site-packages (from google-auth>=1.0.1->kubernetes==17.17.0->wielder==0.2.9) (5.2.0)\r\n",
      "Requirement already satisfied: oauthlib>=3.0.0 in /Users/daniel/.pyenv/versions/3.10.6/envs/dud/lib/python3.10/site-packages (from requests-oauthlib->kubernetes==17.17.0->wielder==0.2.9) (3.2.1)\r\n",
      "Requirement already satisfied: pyasn1<0.5.0,>=0.4.6 in /Users/daniel/.pyenv/versions/3.10.6/envs/dud/lib/python3.10/site-packages (from pyasn1-modules>=0.2.1->google-auth>=1.0.1->kubernetes==17.17.0->wielder==0.2.9) (0.4.8)\r\n",
      "Installing collected packages: wielder\r\n",
      "  Attempting uninstall: wielder\r\n",
      "    Found existing installation: wielder 0.2.9\r\n",
      "    Uninstalling wielder-0.2.9:\r\n",
      "      Successfully uninstalled wielder-0.2.9\r\n",
      "  Running setup.py develop for wielder\r\n",
      "Successfully installed wielder-0.2.9\r\n",
      "\r\n",
      "\u001B[1m[\u001B[0m\u001B[34;49mnotice\u001B[0m\u001B[1;39;49m]\u001B[0m\u001B[39;49m A new release of pip available: \u001B[0m\u001B[31;49m22.2.2\u001B[0m\u001B[39;49m -> \u001B[0m\u001B[32;49m22.3\u001B[0m\r\n",
      "\u001B[1m[\u001B[0m\u001B[34;49mnotice\u001B[0m\u001B[1;39;49m]\u001B[0m\u001B[39;49m To update, run: \u001B[0m\u001B[32;49mpython -m pip install --upgrade pip\u001B[0m\r\n",
      "Obtaining file:///Users/daniel/dev/duds/pep-data/src\r\n",
      "  Preparing metadata (setup.py) ... \u001B[?25ldone\r\n",
      "\u001B[?25hRequirement already satisfied: pyspark==3.0.1 in /Users/daniel/.pyenv/versions/3.10.6/envs/dud/lib/python3.10/site-packages (from pep-data==0.1) (3.0.1)\r\n",
      "Requirement already satisfied: matplotlib-inline==0.1.6 in /Users/daniel/.pyenv/versions/3.10.6/envs/dud/lib/python3.10/site-packages (from pep-data==0.1) (0.1.6)\r\n",
      "Requirement already satisfied: pandas==1.5.0 in /Users/daniel/.pyenv/versions/3.10.6/envs/dud/lib/python3.10/site-packages (from pep-data==0.1) (1.5.0)\r\n",
      "Requirement already satisfied: traitlets in /Users/daniel/.pyenv/versions/3.10.6/envs/dud/lib/python3.10/site-packages (from matplotlib-inline==0.1.6->pep-data==0.1) (5.4.0)\r\n",
      "Requirement already satisfied: pytz>=2020.1 in /Users/daniel/.pyenv/versions/3.10.6/envs/dud/lib/python3.10/site-packages (from pandas==1.5.0->pep-data==0.1) (2022.4)\r\n",
      "Requirement already satisfied: numpy>=1.21.0 in /Users/daniel/.pyenv/versions/3.10.6/envs/dud/lib/python3.10/site-packages (from pandas==1.5.0->pep-data==0.1) (1.23.4)\r\n",
      "Requirement already satisfied: python-dateutil>=2.8.1 in /Users/daniel/.pyenv/versions/3.10.6/envs/dud/lib/python3.10/site-packages (from pandas==1.5.0->pep-data==0.1) (2.8.2)\r\n",
      "Requirement already satisfied: py4j==0.10.9 in /Users/daniel/.pyenv/versions/3.10.6/envs/dud/lib/python3.10/site-packages (from pyspark==3.0.1->pep-data==0.1) (0.10.9)\r\n",
      "Requirement already satisfied: six>=1.5 in /Users/daniel/.pyenv/versions/3.10.6/envs/dud/lib/python3.10/site-packages (from python-dateutil>=2.8.1->pandas==1.5.0->pep-data==0.1) (1.16.0)\r\n",
      "Installing collected packages: pep-data\r\n",
      "  Attempting uninstall: pep-data\r\n",
      "    Found existing installation: pep-data 0.1\r\n",
      "    Uninstalling pep-data-0.1:\r\n",
      "      Successfully uninstalled pep-data-0.1\r\n",
      "  Running setup.py develop for pep-data\r\n",
      "Successfully installed pep-data-0.1\r\n",
      "\r\n",
      "\u001B[1m[\u001B[0m\u001B[34;49mnotice\u001B[0m\u001B[1;39;49m]\u001B[0m\u001B[39;49m A new release of pip available: \u001B[0m\u001B[31;49m22.2.2\u001B[0m\u001B[39;49m -> \u001B[0m\u001B[32;49m22.3\u001B[0m\r\n",
      "\u001B[1m[\u001B[0m\u001B[34;49mnotice\u001B[0m\u001B[1;39;49m]\u001B[0m\u001B[39;49m To update, run: \u001B[0m\u001B[32;49mpython -m pip install --upgrade pip\u001B[0m\r\n"
     ]
    }
   ],
   "source": [
    "# Install a pip package in the current Jupyter kernel\n",
    "!{sys.executable} -m pip install -e '../../../Wielder/'\n",
    "!{sys.executable} -m pip install -e '../'"
   ],
   "metadata": {
    "collapsed": false
   }
  },
  {
   "cell_type": "code",
   "execution_count": 4,
   "outputs": [],
   "source": [
    "from pyspark.sql import SparkSession\n",
    "from pyspark.sql.types import StructType, StructField, StringType, IntegerType, DoubleType\n",
    "from pyspark.sql.functions import split, when, lit, row_number, udf, col\n",
    "\n",
    "from pyspark.sql.window import Window\n",
    "\n",
    "from pep_data.project import get_project_conf\n",
    "\n",
    "from pep_data.spark.util import field_to_struct\n",
    "\n",
    "import random\n",
    "\n",
    "from treelib import Node, Tree"
   ],
   "metadata": {
    "collapsed": false
   }
  },
  {
   "cell_type": "code",
   "execution_count": 5,
   "id": "1809e37b",
   "metadata": {},
   "outputs": [
    {
     "name": "stderr",
     "output_type": "stream",
     "text": [
      "WARNING: An illegal reflective access operation has occurred\n",
      "WARNING: Illegal reflective access by org.apache.spark.unsafe.Platform (file:/Users/daniel/hadoop/spark-3.0.3/jars/spark-unsafe_2.12-3.0.3.jar) to constructor java.nio.DirectByteBuffer(long,int)\n",
      "WARNING: Please consider reporting this to the maintainers of org.apache.spark.unsafe.Platform\n",
      "WARNING: Use --illegal-access=warn to enable warnings of further illegal reflective access operations\n",
      "WARNING: All illegal access operations will be denied in a future release\n",
      "22/10/25 11:31:39 WARN NativeCodeLoader: Unable to load native-hadoop library for your platform... using builtin-java classes where applicable\n",
      "Using Spark's default log4j profile: org/apache/spark/log4j-defaults.properties\n",
      "Setting default log level to \"WARN\".\n",
      "To adjust logging level use sc.setLogLevel(newLevel). For SparkR, use setLogLevel(newLevel).\n"
     ]
    }
   ],
   "source": [
    "# Create Spark session\n",
    "spark = SparkSession.builder.appName(APP).getOrCreate()"
   ]
  },
  {
   "cell_type": "code",
   "execution_count": 6,
   "outputs": [],
   "source": [
    "# Get app configuration from project.conf file\n",
    "conf = get_project_conf()"
   ],
   "metadata": {
    "collapsed": false
   }
  },
  {
   "cell_type": "code",
   "execution_count": 7,
   "id": "5a60e1b2",
   "metadata": {},
   "outputs": [],
   "source": [
    "#Create schema for the data\n",
    "cols_name = conf[APP]['cols_name']\n",
    "cols_double = conf[APP]['cols_double']\n",
    "cols_integer = conf[APP]['cols_integer']\n",
    "\n",
    "# Create all the fields\n",
    "fields = [field_to_struct(header, doubles=cols_double, integers=cols_integer) for header in cols_name]\n",
    "\n",
    "# Create the schema from th e fields\n",
    "schema = StructType(fields)"
   ]
  },
  {
   "cell_type": "code",
   "execution_count": 8,
   "id": "a26ff885",
   "metadata": {},
   "outputs": [
    {
     "name": "stderr",
     "output_type": "stream",
     "text": [
      "                                                                                \r"
     ]
    },
    {
     "name": "stdout",
     "output_type": "stream",
     "text": [
      "+------+------+--------------------+------------------------+-----------------+-----------+-----------+---------+-----------------+----------------+----------------+\n",
      "|remove|Bee ID|             remove1|DaughtersEfficiencyScore|          remove2|Father SIZE|Father TYPE|  remove3|                X|               Y|               Z|\n",
      "+------+------+--------------------+------------------------+-----------------+-----------+-----------+---------+-----------------+----------------+----------------+\n",
      "|Bee ID|   0_0|DaughtersEfficien...|      -0.164749489890085|Father SIZE&TYPE:|          5|     107027|Locus XYZ| 27.9611146732039|25.5400860475001|24.7985869211487|\n",
      "|Bee ID|   0_9|DaughtersEfficien...|     -0.0911178061843766|Father SIZE&TYPE:|          8|      35473|Locus XYZ| 3.61617713007262|15.3999367838593|14.1115068303594|\n",
      "|Bee ID|  0_16|DaughtersEfficien...|      -0.278373748716953|Father SIZE&TYPE:|          9|      72732|Locus XYZ| 6.48713247265339|27.9611146732039|23.5040555402672|\n",
      "|Bee ID|  0_76|DaughtersEfficien...|      0.0198831506878141|Father SIZE&TYPE:|          6|      49069|Locus XYZ| 8.28517690605433|21.8811144705459| 10.805611548699|\n",
      "|Bee ID|  0_35|DaughtersEfficien...|     -0.0758420403016315|Father SIZE&TYPE:|          5|        187|Locus XYZ|             -1.0|            13.0|            17.0|\n",
      "|Bee ID|  0_17|DaughtersEfficien...|      -0.336211045714101|Father SIZE&TYPE:|          5|      74276|Locus XYZ|             -0.6|            12.0|            16.0|\n",
      "|Bee ID|  0_49|DaughtersEfficien...|      -0.131101374736454|Father SIZE&TYPE:|         10|     108253|Locus XYZ| 4.12305646542417| 16.283460349458|12.7359525008119|\n",
      "|Bee ID|  0_11|DaughtersEfficien...|      -0.188119704351602|Father SIZE&TYPE:|          5|       8907|Locus XYZ|              2.4|            14.9|            12.7|\n",
      "|Bee ID|  0_53|DaughtersEfficien...|       -1.07835423047229|Father SIZE&TYPE:|          5|      56276|Locus XYZ|0.489349670034226|24.6008919196243|24.2957140306825|\n",
      "|Bee ID|  0_58|DaughtersEfficien...|      -0.145788470350282|Father SIZE&TYPE:|          5|       8639|Locus XYZ|             4.75|           15.75|           14.25|\n",
      "|Bee ID|  0_29|DaughtersEfficien...|      -0.367732899509794|Father SIZE&TYPE:|          9|      16678|Locus XYZ| 5.34706817065983|24.8631858481484|13.1676809039794|\n",
      "|Bee ID|  0_36|DaughtersEfficien...|      -0.276260889026211|Father SIZE&TYPE:|          7|      71010|Locus XYZ|             0.35|            15.0|           16.65|\n",
      "|Bee ID|   0_1|DaughtersEfficien...|      -0.033788359304962|Father SIZE&TYPE:|         13|      23028|Locus XYZ|             0.85|           23.85|           22.25|\n",
      "|Bee ID|  0_60|DaughtersEfficien...|      -0.711125283428043|Father SIZE&TYPE:|          7|      73856|Locus XYZ|0.668985144557195|25.6359944099781|24.2351182827903|\n",
      "|Bee ID|   0_3|DaughtersEfficien...|     -0.0499120253415907|Father SIZE&TYPE:|         14|        782|Locus XYZ|0.892923311854599|18.0773873126914|16.2277547015933|\n",
      "|Bee ID|   0_4|DaughtersEfficien...|      -0.234473959464157|Father SIZE&TYPE:|         12|      45682|Locus XYZ| 3.45375923957918|27.3980764546454|17.4100647680198|\n",
      "|Bee ID|  0_54|DaughtersEfficien...|      -0.355028503067343|Father SIZE&TYPE:|          5|      35576|Locus XYZ|             -0.6|            22.9|            22.4|\n",
      "|Bee ID|  0_41|DaughtersEfficien...|      -0.074778527860388|Father SIZE&TYPE:|          9|      88641|Locus XYZ|              1.5|            24.5|            21.6|\n",
      "|Bee ID|   0_5|DaughtersEfficien...|    -0.00481785796313983|Father SIZE&TYPE:|         14|        191|Locus XYZ| 3.19887694844513|24.9354612482408|15.2715796789857|\n",
      "|Bee ID|  0_48|DaughtersEfficien...|      -0.237260916966738|Father SIZE&TYPE:|          6|       1632|Locus XYZ| 9.39503071753309|14.1303034654202| 10.296116697726|\n",
      "+------+------+--------------------+------------------------+-----------------+-----------+-----------+---------+-----------------+----------------+----------------+\n",
      "only showing top 20 rows\n",
      "\n"
     ]
    }
   ],
   "source": [
    "# TODO read from conf\n",
    "# Read the data from the csv using the schema\n",
    "df = spark.read.schema(schema).csv('/Users/daniel/dev/duds/pep-data/src/jupyter/BeeHiveTestData.csv')\n",
    "df.show()"
   ]
  },
  {
   "cell_type": "code",
   "execution_count": 9,
   "id": "6f950c74",
   "metadata": {},
   "outputs": [
    {
     "name": "stdout",
     "output_type": "stream",
     "text": [
      "+------+------------------------+-----------+-----------+-----------------+----------------+----------------+\n",
      "|Bee ID|DaughtersEfficiencyScore|Father SIZE|Father TYPE|                X|               Y|               Z|\n",
      "+------+------------------------+-----------+-----------+-----------------+----------------+----------------+\n",
      "|   0_0|      -0.164749489890085|          5|     107027| 27.9611146732039|25.5400860475001|24.7985869211487|\n",
      "|   0_9|     -0.0911178061843766|          8|      35473| 3.61617713007262|15.3999367838593|14.1115068303594|\n",
      "|  0_16|      -0.278373748716953|          9|      72732| 6.48713247265339|27.9611146732039|23.5040555402672|\n",
      "|  0_76|      0.0198831506878141|          6|      49069| 8.28517690605433|21.8811144705459| 10.805611548699|\n",
      "|  0_35|     -0.0758420403016315|          5|        187|             -1.0|            13.0|            17.0|\n",
      "|  0_17|      -0.336211045714101|          5|      74276|             -0.6|            12.0|            16.0|\n",
      "|  0_49|      -0.131101374736454|         10|     108253| 4.12305646542417| 16.283460349458|12.7359525008119|\n",
      "|  0_11|      -0.188119704351602|          5|       8907|              2.4|            14.9|            12.7|\n",
      "|  0_53|       -1.07835423047229|          5|      56276|0.489349670034226|24.6008919196243|24.2957140306825|\n",
      "|  0_58|      -0.145788470350282|          5|       8639|             4.75|           15.75|           14.25|\n",
      "|  0_29|      -0.367732899509794|          9|      16678| 5.34706817065983|24.8631858481484|13.1676809039794|\n",
      "|  0_36|      -0.276260889026211|          7|      71010|             0.35|            15.0|           16.65|\n",
      "|   0_1|      -0.033788359304962|         13|      23028|             0.85|           23.85|           22.25|\n",
      "|  0_60|      -0.711125283428043|          7|      73856|0.668985144557195|25.6359944099781|24.2351182827903|\n",
      "|   0_3|     -0.0499120253415907|         14|        782|0.892923311854599|18.0773873126914|16.2277547015933|\n",
      "|   0_4|      -0.234473959464157|         12|      45682| 3.45375923957918|27.3980764546454|17.4100647680198|\n",
      "|  0_54|      -0.355028503067343|          5|      35576|             -0.6|            22.9|            22.4|\n",
      "|  0_41|      -0.074778527860388|          9|      88641|              1.5|            24.5|            21.6|\n",
      "|   0_5|    -0.00481785796313983|         14|        191| 3.19887694844513|24.9354612482408|15.2715796789857|\n",
      "|  0_48|      -0.237260916966738|          6|       1632| 9.39503071753309|14.1303034654202| 10.296116697726|\n",
      "+------+------------------------+-----------+-----------+-----------------+----------------+----------------+\n",
      "only showing top 20 rows\n",
      "\n"
     ]
    }
   ],
   "source": [
    "# Remove unnecessary columns(the columns with the word remove in them)\n",
    "cols_to_keep = [x for x in df.columns if 'remove' not in x]\n",
    "df = df.select(*cols_to_keep)\n",
    "\n",
    "df.show()"
   ]
  },
  {
   "cell_type": "code",
   "execution_count": 10,
   "id": "248b2a08",
   "metadata": {},
   "outputs": [
    {
     "name": "stdout",
     "output_type": "stream",
     "text": [
      "+------+------------------------+-----------+-----------+-----------------+----------------+----------------+-----+--------+\n",
      "|Bee ID|DaughtersEfficiencyScore|Father SIZE|Father TYPE|                X|               Y|               Z|Cycle|Cycle ID|\n",
      "+------+------------------------+-----------+-----------+-----------------+----------------+----------------+-----+--------+\n",
      "|   0_0|      -0.164749489890085|          5|     107027| 27.9611146732039|25.5400860475001|24.7985869211487|    0|       0|\n",
      "|   0_9|     -0.0911178061843766|          8|      35473| 3.61617713007262|15.3999367838593|14.1115068303594|    0|       9|\n",
      "|  0_16|      -0.278373748716953|          9|      72732| 6.48713247265339|27.9611146732039|23.5040555402672|    0|      16|\n",
      "|  0_76|      0.0198831506878141|          6|      49069| 8.28517690605433|21.8811144705459| 10.805611548699|    0|      76|\n",
      "|  0_35|     -0.0758420403016315|          5|        187|             -1.0|            13.0|            17.0|    0|      35|\n",
      "|  0_17|      -0.336211045714101|          5|      74276|             -0.6|            12.0|            16.0|    0|      17|\n",
      "|  0_49|      -0.131101374736454|         10|     108253| 4.12305646542417| 16.283460349458|12.7359525008119|    0|      49|\n",
      "|  0_11|      -0.188119704351602|          5|       8907|              2.4|            14.9|            12.7|    0|      11|\n",
      "|  0_53|       -1.07835423047229|          5|      56276|0.489349670034226|24.6008919196243|24.2957140306825|    0|      53|\n",
      "|  0_58|      -0.145788470350282|          5|       8639|             4.75|           15.75|           14.25|    0|      58|\n",
      "|  0_29|      -0.367732899509794|          9|      16678| 5.34706817065983|24.8631858481484|13.1676809039794|    0|      29|\n",
      "|  0_36|      -0.276260889026211|          7|      71010|             0.35|            15.0|           16.65|    0|      36|\n",
      "|   0_1|      -0.033788359304962|         13|      23028|             0.85|           23.85|           22.25|    0|       1|\n",
      "|  0_60|      -0.711125283428043|          7|      73856|0.668985144557195|25.6359944099781|24.2351182827903|    0|      60|\n",
      "|   0_3|     -0.0499120253415907|         14|        782|0.892923311854599|18.0773873126914|16.2277547015933|    0|       3|\n",
      "|   0_4|      -0.234473959464157|         12|      45682| 3.45375923957918|27.3980764546454|17.4100647680198|    0|       4|\n",
      "|  0_54|      -0.355028503067343|          5|      35576|             -0.6|            22.9|            22.4|    0|      54|\n",
      "|  0_41|      -0.074778527860388|          9|      88641|              1.5|            24.5|            21.6|    0|      41|\n",
      "|   0_5|    -0.00481785796313983|         14|        191| 3.19887694844513|24.9354612482408|15.2715796789857|    0|       5|\n",
      "|  0_48|      -0.237260916966738|          6|       1632| 9.39503071753309|14.1303034654202| 10.296116697726|    0|      48|\n",
      "+------+------------------------+-----------+-----------+-----------------+----------------+----------------+-----+--------+\n",
      "only showing top 20 rows\n",
      "\n"
     ]
    }
   ],
   "source": [
    "# Split Bee_ID column to Cycle(Bee value) and Cycle ID(ID value) columns\n",
    "df_cleaned = df.withColumn('Cycle', split(col('Bee ID'), '_')\\\n",
    "                           .getItem(0))\\\n",
    "               .withColumn('Cycle ID', split(col('Bee ID'), '_')\\\n",
    "                           .getItem(1))\n",
    "\n",
    "# Change the type of value in Cycle column from string to integer\n",
    "df_cleaned= df_cleaned.withColumn(\"Cycle\",col(\"Cycle\")\\\n",
    "                                  .cast(IntegerType()))\n",
    "\n",
    "df_cleaned.show()"
   ]
  },
  {
   "cell_type": "code",
   "execution_count": 11,
   "id": "b9598022",
   "metadata": {},
   "outputs": [
    {
     "name": "stderr",
     "output_type": "stream",
     "text": [
      "22/10/25 11:31:50 WARN WindowExec: No Partition Defined for Window operation! Moving all data to a single partition, this can cause serious performance degradation.\n",
      "[Stage 3:==============>                                            (1 + 3) / 4]\r"
     ]
    },
    {
     "name": "stdout",
     "output_type": "stream",
     "text": [
      "+------+------------------------+-----------+-----------+-----------------+----------------+----------------+-----+--------+-------------+\n",
      "|Bee ID|DaughtersEfficiencyScore|Father SIZE|Father TYPE|                X|               Y|               Z|Cycle|Cycle ID|Continuous ID|\n",
      "+------+------------------------+-----------+-----------+-----------------+----------------+----------------+-----+--------+-------------+\n",
      "|   0_0|      -0.164749489890085|          5|     107027| 27.9611146732039|25.5400860475001|24.7985869211487|    0|       0|            1|\n",
      "|   0_9|     -0.0911178061843766|          8|      35473| 3.61617713007262|15.3999367838593|14.1115068303594|    0|       9|            2|\n",
      "|  0_16|      -0.278373748716953|          9|      72732| 6.48713247265339|27.9611146732039|23.5040555402672|    0|      16|            3|\n",
      "|  0_76|      0.0198831506878141|          6|      49069| 8.28517690605433|21.8811144705459| 10.805611548699|    0|      76|            4|\n",
      "|  0_35|     -0.0758420403016315|          5|        187|             -1.0|            13.0|            17.0|    0|      35|            5|\n",
      "|  0_17|      -0.336211045714101|          5|      74276|             -0.6|            12.0|            16.0|    0|      17|            6|\n",
      "|  0_49|      -0.131101374736454|         10|     108253| 4.12305646542417| 16.283460349458|12.7359525008119|    0|      49|            7|\n",
      "|  0_11|      -0.188119704351602|          5|       8907|              2.4|            14.9|            12.7|    0|      11|            8|\n",
      "|  0_53|       -1.07835423047229|          5|      56276|0.489349670034226|24.6008919196243|24.2957140306825|    0|      53|            9|\n",
      "|  0_58|      -0.145788470350282|          5|       8639|             4.75|           15.75|           14.25|    0|      58|           10|\n",
      "|  0_29|      -0.367732899509794|          9|      16678| 5.34706817065983|24.8631858481484|13.1676809039794|    0|      29|           11|\n",
      "|  0_36|      -0.276260889026211|          7|      71010|             0.35|            15.0|           16.65|    0|      36|           12|\n",
      "|   0_1|      -0.033788359304962|         13|      23028|             0.85|           23.85|           22.25|    0|       1|           13|\n",
      "|  0_60|      -0.711125283428043|          7|      73856|0.668985144557195|25.6359944099781|24.2351182827903|    0|      60|           14|\n",
      "|   0_3|     -0.0499120253415907|         14|        782|0.892923311854599|18.0773873126914|16.2277547015933|    0|       3|           15|\n",
      "|   0_4|      -0.234473959464157|         12|      45682| 3.45375923957918|27.3980764546454|17.4100647680198|    0|       4|           16|\n",
      "|  0_54|      -0.355028503067343|          5|      35576|             -0.6|            22.9|            22.4|    0|      54|           17|\n",
      "|  0_41|      -0.074778527860388|          9|      88641|              1.5|            24.5|            21.6|    0|      41|           18|\n",
      "|   0_5|    -0.00481785796313983|         14|        191| 3.19887694844513|24.9354612482408|15.2715796789857|    0|       5|           19|\n",
      "|  0_48|      -0.237260916966738|          6|       1632| 9.39503071753309|14.1303034654202| 10.296116697726|    0|      48|           20|\n",
      "+------+------------------------+-----------+-----------+-----------------+----------------+----------------+-----+--------+-------------+\n",
      "only showing top 20 rows\n",
      "\n"
     ]
    },
    {
     "name": "stderr",
     "output_type": "stream",
     "text": [
      "                                                                                \r"
     ]
    }
   ],
   "source": [
    "# Sort the data frame by Cycle column and add row number for each row(new column with the name Continuous ID)\n",
    "w = Window().orderBy('Cycle')\n",
    "df_cleaned = df_cleaned.withColumn('Continuous ID', row_number()\\\n",
    "                                   .over(w))\n",
    "\n",
    "df_cleaned.show()"
   ]
  },
  {
   "cell_type": "code",
   "execution_count": 12,
   "id": "40b390d0",
   "metadata": {},
   "outputs": [
    {
     "name": "stderr",
     "output_type": "stream",
     "text": [
      "22/10/25 11:31:52 WARN WindowExec: No Partition Defined for Window operation! Moving all data to a single partition, this can cause serious performance degradation.\n"
     ]
    },
    {
     "data": {
      "text/plain": "{0: 1,\n 1: 551,\n 2: 1859,\n 3: 3224,\n 4: 4453,\n 5: 5171,\n 6: 5840,\n 7: 6541,\n 8: 7394,\n 9: 8071,\n 10: 8782,\n 11: 9290,\n 12: 10863,\n 13: 12233,\n 14: 13375,\n 15: 14053,\n 16: 14766,\n 17: 15458,\n 18: 16203,\n 19: 16915,\n 20: 17700,\n 21: 18323,\n 22: 19045,\n 23: 19859,\n 24: 20535,\n 25: 21226,\n 26: 21862,\n 27: 22595,\n 28: 23384,\n 29: 24147,\n 30: 24944,\n 31: 25730,\n 32: 26403,\n 33: 27153,\n 34: 27796,\n 35: 28645,\n 36: 29505,\n 37: 30313,\n 38: 31053,\n 39: 31688,\n 40: 32331,\n 41: 33170,\n 42: 34095,\n 43: 34753,\n 44: 35502,\n 45: 36433,\n 46: 37375,\n 47: 38147,\n 48: 38878,\n 49: 39590,\n 50: 40388,\n 51: 41283,\n 52: 43136,\n 53: 44282,\n 54: 45148,\n 55: 46070,\n 56: 46859,\n 57: 47902,\n 58: 48614,\n 59: 49444,\n 60: 50387,\n 61: 51066,\n 62: 51920,\n 63: 52674,\n 64: 53467,\n 65: 54124,\n 66: 54863,\n 67: 55537,\n 68: 56387,\n 69: 57250,\n 70: 58143,\n 71: 58892,\n 72: 59758,\n 73: 60472,\n 74: 61223,\n 75: 61953,\n 76: 62685,\n 77: 63550,\n 78: 64324,\n 79: 65146,\n 80: 65767,\n 81: 66350,\n 82: 67220,\n 83: 67951,\n 84: 68655,\n 85: 69325,\n 86: 69956,\n 87: 70677,\n 88: 71305,\n 89: 72146,\n 90: 72890,\n 91: 73595,\n 92: 74289,\n 93: 75191,\n 94: 76718,\n 95: 77810,\n 96: 78731,\n 97: 79437,\n 98: 80135,\n 99: 80491}"
     },
     "execution_count": 12,
     "metadata": {},
     "output_type": "execute_result"
    }
   ],
   "source": [
    "# Create a dictionary with key = cycle , value = minimun value of Continuous ID of cycle(key)\n",
    "continuous_min_id_per_cycle = {key : value for key, value  in df_cleaned.groupBy('Cycle').min('Continuous ID').collect()}\n",
    "\n",
    "continuous_min_id_per_cycle"
   ]
  },
  {
   "cell_type": "code",
   "execution_count": 13,
   "id": "f5502f18",
   "metadata": {},
   "outputs": [
    {
     "name": "stderr",
     "output_type": "stream",
     "text": [
      "                                                                                \r"
     ]
    },
    {
     "data": {
      "text/plain": "[0,\n 1,\n 2,\n 3,\n 4,\n 5,\n 6,\n 7,\n 8,\n 9,\n 10,\n 11,\n 12,\n 13,\n 14,\n 15,\n 16,\n 17,\n 18,\n 19,\n 20,\n 21,\n 22,\n 23,\n 24,\n 25,\n 26,\n 27,\n 28,\n 29,\n 30,\n 31,\n 32,\n 33,\n 34,\n 35,\n 36,\n 37,\n 38,\n 39,\n 40,\n 41,\n 42,\n 43,\n 44,\n 45,\n 46,\n 47,\n 48,\n 49,\n 50,\n 51,\n 52,\n 53,\n 54,\n 55,\n 56,\n 57,\n 58,\n 59,\n 60,\n 61,\n 62,\n 63,\n 64,\n 65,\n 66,\n 67,\n 68,\n 69,\n 70,\n 71,\n 72,\n 73,\n 74,\n 75,\n 76,\n 77,\n 78,\n 79,\n 80,\n 81,\n 82,\n 83,\n 84,\n 85,\n 86,\n 87,\n 88,\n 89,\n 90,\n 91,\n 92,\n 93,\n 94,\n 95,\n 96,\n 97,\n 98,\n 99]"
     },
     "execution_count": 13,
     "metadata": {},
     "output_type": "execute_result"
    }
   ],
   "source": [
    "# Create sorted list of all distinct values of Cycle column\n",
    "cycles = sorted([i[0] for i in df_cleaned.select('Cycle').distinct().collect()])\n",
    "\n",
    "cycles"
   ]
  },
  {
   "cell_type": "code",
   "execution_count": 14,
   "id": "80aa79ab",
   "metadata": {},
   "outputs": [],
   "source": [
    "# Return parent continuous id according to cycle and n\n",
    "def assert_parent_bee_id(cycle):\n",
    "    n = 3\n",
    "\n",
    "    # Get index  of cycle in cycles list\n",
    "    cycle_index = cycles.index(cycle)\n",
    "\n",
    "    # Return parent bee id if cycle is 0\n",
    "    if  not cycle_index :\n",
    "        return None\n",
    "\n",
    "    min_cycle_index = 0\n",
    "\n",
    "    # Update min_cycle_index according to cycle_index and n\n",
    "    if cycle_index > n:\n",
    "        min_cycle_index = cycle_index - n\n",
    "\n",
    "    # Calculate the minimun value for random parent continuous id\n",
    "    min_rand_value = continuous_min_id_per_cycle[cycles[min_cycle_index]]\n",
    "\n",
    "    # Calculate the maximum value for random parent continuous id\n",
    "    max_rand_vale = continuous_min_id_per_cycle[cycles[cycle_index]] - 1\n",
    "\n",
    "    # Get random value of parent_continuous_id (from min_rand_value to max_rand_vale)\n",
    "    parent_continuous_id = random.randint(min_rand_value, max_rand_vale)\n",
    "\n",
    "    return parent_continuous_id"
   ]
  },
  {
   "cell_type": "code",
   "execution_count": 26,
   "id": "23946054",
   "metadata": {},
   "outputs": [
    {
     "name": "stdout",
     "output_type": "stream",
     "text": [
      "+------+------------------------+-----------+-----------+-----------------+----------------+----------------+-----+--------+-------------+--------------------+\n",
      "|Bee ID|DaughtersEfficiencyScore|Father SIZE|Father TYPE|                X|               Y|               Z|Cycle|Cycle ID|Continuous ID|Parent Continuous ID|\n",
      "+------+------------------------+-----------+-----------+-----------------+----------------+----------------+-----+--------+-------------+--------------------+\n",
      "|   0_0|      -0.164749489890085|          5|     107027| 27.9611146732039|25.5400860475001|24.7985869211487|    0|       0|            1|                null|\n",
      "|   0_9|     -0.0911178061843766|          8|      35473| 3.61617713007262|15.3999367838593|14.1115068303594|    0|       9|            2|                null|\n",
      "|  0_16|      -0.278373748716953|          9|      72732| 6.48713247265339|27.9611146732039|23.5040555402672|    0|      16|            3|                null|\n",
      "|  0_76|      0.0198831506878141|          6|      49069| 8.28517690605433|21.8811144705459| 10.805611548699|    0|      76|            4|                null|\n",
      "|  0_35|     -0.0758420403016315|          5|        187|             -1.0|            13.0|            17.0|    0|      35|            5|                null|\n",
      "|  0_17|      -0.336211045714101|          5|      74276|             -0.6|            12.0|            16.0|    0|      17|            6|                null|\n",
      "|  0_49|      -0.131101374736454|         10|     108253| 4.12305646542417| 16.283460349458|12.7359525008119|    0|      49|            7|                null|\n",
      "|  0_11|      -0.188119704351602|          5|       8907|              2.4|            14.9|            12.7|    0|      11|            8|                null|\n",
      "|  0_53|       -1.07835423047229|          5|      56276|0.489349670034226|24.6008919196243|24.2957140306825|    0|      53|            9|                null|\n",
      "|  0_58|      -0.145788470350282|          5|       8639|             4.75|           15.75|           14.25|    0|      58|           10|                null|\n",
      "|  0_29|      -0.367732899509794|          9|      16678| 5.34706817065983|24.8631858481484|13.1676809039794|    0|      29|           11|                null|\n",
      "|  0_36|      -0.276260889026211|          7|      71010|             0.35|            15.0|           16.65|    0|      36|           12|                null|\n",
      "|   0_1|      -0.033788359304962|         13|      23028|             0.85|           23.85|           22.25|    0|       1|           13|                null|\n",
      "|  0_60|      -0.711125283428043|          7|      73856|0.668985144557195|25.6359944099781|24.2351182827903|    0|      60|           14|                null|\n",
      "|   0_3|     -0.0499120253415907|         14|        782|0.892923311854599|18.0773873126914|16.2277547015933|    0|       3|           15|                null|\n",
      "|   0_4|      -0.234473959464157|         12|      45682| 3.45375923957918|27.3980764546454|17.4100647680198|    0|       4|           16|                null|\n",
      "|  0_54|      -0.355028503067343|          5|      35576|             -0.6|            22.9|            22.4|    0|      54|           17|                null|\n",
      "|  0_41|      -0.074778527860388|          9|      88641|              1.5|            24.5|            21.6|    0|      41|           18|                null|\n",
      "|   0_5|    -0.00481785796313983|         14|        191| 3.19887694844513|24.9354612482408|15.2715796789857|    0|       5|           19|                null|\n",
      "|  0_48|      -0.237260916966738|          6|       1632| 9.39503071753309|14.1303034654202| 10.296116697726|    0|      48|           20|                null|\n",
      "+------+------------------------+-----------+-----------+-----------------+----------------+----------------+-----+--------+-------------+--------------------+\n",
      "only showing top 20 rows\n",
      "\n"
     ]
    }
   ],
   "source": [
    "# Convert assert_parent_bee_id(cycle) to user defined function\n",
    "assert_parent_bee_id_udf = udf(lambda z: assert_parent_bee_id(z))\n",
    "\n",
    "# Create new column Parent Continuous ID using the assert_parent_bee_id_udf function and Cycle column\n",
    "# cache() caches the specified data frame in the memory of your cluster's workers\n",
    "# If executing multiple actions on the same data frame then cache it\n",
    "df_cleaned = df_cleaned.withColumn(\"Parent Continuous ID\", assert_parent_bee_id_udf(col('Cycle')))\\\n",
    "                        .cache()\n",
    "\n",
    "df_cleaned.show()"
   ]
  },
  {
   "cell_type": "code",
   "execution_count": 27,
   "id": "4973814e",
   "metadata": {},
   "outputs": [
    {
     "name": "stdout",
     "output_type": "stream",
     "text": [
      "0_0\n",
      "├── 1_1037\n",
      "│   ├── 2_1995\n",
      "│   │   └── 4_2067\n",
      "│   │       └── 7_1581\n",
      "│   └── 3_2120\n",
      "│       └── 5_1199\n",
      "│           └── 6_2165\n",
      "├── 1_1820\n",
      "│   ├── 2_1150\n",
      "│   ├── 2_1337\n",
      "│   │   └── 3_1302\n",
      "│   │       ├── 6_1874\n",
      "│   │       │   └── 7_2230\n",
      "│   │       └── 6_570\n",
      "│   │           ├── 7_14\n",
      "│   │           │   ├── 8_904\n",
      "│   │           │   │   ├── 10_1126\n",
      "│   │           │   │   │   ├── 12_1438\n",
      "│   │           │   │   │   │   ├── 13_416\n",
      "│   │           │   │   │   │   │   └── 16_1607\n",
      "│   │           │   │   │   │   │       ├── 17_2717\n",
      "│   │           │   │   │   │   │       └── 17_572\n",
      "│   │           │   │   │   │   │           ├── 18_2217\n",
      "│   │           │   │   │   │   │           │   └── 19_284\n",
      "│   │           │   │   │   │   │           │       ├── 20_1957\n",
      "│   │           │   │   │   │   │           │       │   ├── 22_2791\n",
      "│   │           │   │   │   │   │           │       │   │   ├── 23_2293\n",
      "│   │           │   │   │   │   │           │       │   │   │   └── 24_7\n",
      "│   │           │   │   │   │   │           │       │   │   │       ├── 27_1536\n",
      "│   │           │   │   │   │   │           │       │   │   │       │   ├── 28_540\n",
      "│   │           │   │   │   │   │           │       │   │   │       │   │   └── 31_1440\n",
      "│   │           │   │   │   │   │           │       │   │   │       │   │       └── 32_1595\n",
      "│   │           │   │   │   │   │           │       │   │   │       │   │           └── 33_395\n",
      "│   │           │   │   │   │   │           │       │   │   │       │   │               └── 35_2224\n",
      "│   │           │   │   │   │   │           │       │   │   │       │   │                   └── 36_2159\n",
      "│   │           │   │   │   │   │           │       │   │   │       │   │                       └── 38_747\n",
      "│   │           │   │   │   │   │           │       │   │   │       │   └── 30_1323\n",
      "│   │           │   │   │   │   │           │       │   │   │       │       ├── 32_2485\n",
      "│   │           │   │   │   │   │           │       │   │   │       │       └── 33_2195\n",
      "│   │           │   │   │   │   │           │       │   │   │       └── 27_1857\n",
      "│   │           │   │   │   │   │           │       │   │   └── 24_810\n",
      "│   │           │   │   │   │   │           │       │   │       └── 26_413\n",
      "│   │           │   │   │   │   │           │       │   │           └── 28_1758\n",
      "│   │           │   │   │   │   │           │       │   │               ├── 29_357\n",
      "│   │           │   │   │   │   │           │       │   │               └── 30_178\n",
      "│   │           │   │   │   │   │           │       │   ├── 23_129\n",
      "│   │           │   │   │   │   │           │       │   │   └── 25_2544\n",
      "│   │           │   │   │   │   │           │       │   │       └── 28_15\n",
      "│   │           │   │   │   │   │           │       │   │           └── 29_777\n",
      "│   │           │   │   │   │   │           │       │   └── 23_1326\n",
      "│   │           │   │   │   │   │           │       │       └── 25_1815\n",
      "│   │           │   │   │   │   │           │       │           └── 27_2158\n",
      "│   │           │   │   │   │   │           │       │               └── 30_1306\n",
      "│   │           │   │   │   │   │           │       │                   └── 31_1384\n",
      "│   │           │   │   │   │   │           │       │                       └── 34_1830\n",
      "│   │           │   │   │   │   │           │       │                           └── 35_1528\n",
      "│   │           │   │   │   │   │           │       └── 22_2869\n",
      "│   │           │   │   │   │   │           └── 19_1297\n",
      "│   │           │   │   │   │   │               ├── 20_2181\n",
      "│   │           │   │   │   │   │               └── 21_20\n",
      "│   │           │   │   │   │   └── 14_2934\n",
      "│   │           │   │   │   │       └── 17_898\n",
      "│   │           │   │   │   │           └── 20_1195\n",
      "│   │           │   │   │   │               └── 21_1404\n",
      "│   │           │   │   │   │                   └── 23_642\n",
      "│   │           │   │   │   └── 12_1743\n",
      "│   │           │   │   └── 11_3405\n",
      "│   │           │   │       ├── 13_2256\n",
      "│   │           │   │       │   └── 14_1874\n",
      "│   │           │   │       └── 13_407\n",
      "│   │           │   │           └── 15_1419\n",
      "│   │           │   │               ├── 17_547\n",
      "│   │           │   │               │   ├── 18_2179\n",
      "│   │           │   │               │   └── 19_973\n",
      "│   │           │   │               │       └── 20_224\n",
      "│   │           │   │               └── 18_2465\n",
      "│   │           │   │                   └── 21_2318\n",
      "│   │           │   ├── 9_2415\n",
      "│   │           │   └── 9_829\n",
      "│   │           └── 9_467\n",
      "│   │               └── 11_3234\n",
      "│   ├── 3_1595\n",
      "│   │   └── 6_1655\n",
      "│   │       └── 7_895\n",
      "│   └── 3_1970\n",
      "│       └── 4_1865\n",
      "│           └── 7_1722\n",
      "│               └── 8_1555\n",
      "│                   ├── 11_2963\n",
      "│                   ├── 11_4650\n",
      "│                   │   └── 12_1141\n",
      "│                   │       └── 15_1387\n",
      "│                   │           └── 16_1644\n",
      "│                   └── 11_5547\n",
      "└── 3_1743\n",
      "    └── 5_1495\n",
      "        └── 8_2345\n",
      "\n"
     ]
    }
   ],
   "source": [
    "# Create a tree using the idead of bfs algorithm\n",
    "\n",
    "# Get the root parent (first node of the tree)\n",
    "root_parent_continuous_id = 1\n",
    "root_parent = df_cleaned.filter(df_cleaned['Continuous ID'] == root_parent_continuous_id).collect()[0]\n",
    "\n",
    "# list of rows from df_cleand that will be nodes in the tree\n",
    "tree_nodes = [root]\n",
    "\n",
    "# Create tree\n",
    "tree = Tree()\n",
    "\n",
    "# Add first node(root) to tree\n",
    "tree.create_node(root['Bee ID'], root['Bee ID'])\n",
    "\n",
    "# While tree_nodes not empty pop first value (parent) serach for its kids append them to tree_nodes and add them to the tree\n",
    "while tree_nodes:\n",
    "    # Get first value in tree_nodes\n",
    "    parent = tree_nodes.pop()\n",
    "\n",
    "    #find all rows in df_cleaned which their value in\n",
    "    kids = df_cleaned.filter(col('Parent Continuous ID') == parent['Continuous ID'])\n",
    "\n",
    "    for k in kids.collect():\n",
    "        tree_nodes.append(k)\n",
    "        tree.create_node(k['Bee ID'], k['Bee ID'], parent['Bee ID'] )\n",
    "\n",
    "\n",
    "tree.show()"
   ]
  },
  {
   "cell_type": "code",
   "execution_count": null,
   "id": "2bb57f30",
   "metadata": {},
   "outputs": [],
   "source": [
    "# from operator import add\n",
    "def test2(a,b):\n",
    "    return a+b\n",
    "\n",
    "spark.sparkContext.parallelize([1, 2, 3, 4, 5]).fold(1, test2)"
   ]
  },
  {
   "cell_type": "code",
   "execution_count": null,
   "id": "e14bf90c",
   "metadata": {},
   "outputs": [],
   "source": [
    "def test1(tree_dict, row):\n",
    "\n",
    "    # for r in row:\n",
    "    #     if r[10] == 1:\n",
    "    #         tree_dict.append(row)\n",
    "\n",
    "    # for column in tree_dict:\n",
    "    #     if column['Continuous ID'] == row[0]:\n",
    "    #         tree_dict.append(row)\n",
    "\n",
    "    # for column in tree_dict:\n",
    "    #     #tree_dict[column].append(row)\n",
    "    #     for r in list(row):\n",
    "    #         print(r)\n",
    "    #     print(\"-------\")\n",
    "\n",
    "    # for column in tree_dict:\n",
    "    #     print(type(column))\n",
    "    #     # if column['Continuous ID'] == list(row.keys())[0][10]:\n",
    "    #     #     print(row)\n",
    "    # print('---------')\n",
    "\n",
    "    # print(type(row))\n",
    "    # print(row[10])\n",
    "    # #print((list(row))[0][10])\n",
    "\n",
    "    return tree_dict\n",
    "\n",
    "root = df_cleaned.head()\n",
    "df_cleaned.rdd.fold([],test1 )"
   ]
  },
  {
   "cell_type": "code",
   "execution_count": null,
   "id": "59267256",
   "metadata": {},
   "outputs": [],
   "source": [
    "d = {1:['a'], 2: ['b']}\n",
    "d[1].append('c')\n",
    "print(d)"
   ]
  }
 ],
 "metadata": {
  "kernelspec": {
   "display_name": "Python 3 (ipykernel)",
   "language": "python",
   "name": "python3"
  },
  "language_info": {
   "codemirror_mode": {
    "name": "ipython",
    "version": 3
   },
   "file_extension": ".py",
   "mimetype": "text/x-python",
   "name": "python",
   "nbconvert_exporter": "python",
   "pygments_lexer": "ipython3",
   "version": "3.10.6"
  }
 },
 "nbformat": 4,
 "nbformat_minor": 5
}
